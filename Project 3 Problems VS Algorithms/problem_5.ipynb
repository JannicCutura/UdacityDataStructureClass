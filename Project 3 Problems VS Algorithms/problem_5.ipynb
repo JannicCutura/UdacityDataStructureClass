{
  "cells": [
    {
      "cell_type": "markdown",
      "metadata": {
        "pycharm": {}
      },
      "source": [
        "# Building a Trie in Python\n",
        "\n",
        "Before we start let us reiterate the key components of a Trie or Prefix Tree. A trie is a tree-like data structure that stores a dynamic set of strings. Tries are commonly used to facilitate operations like predictive text or autocomplete features on mobile phones or web search.\n",
        "\n",
        "Before we move into the autocomplete function we need to create a working trie for storing strings.  We will create two classes:\n",
        "* A `Trie` class that contains the root node (empty string)\n",
        "* A `TrieNode` class that exposes the general functionality of the Trie, like inserting a word or finding the node which represents a prefix.\n",
        "\n",
        "Give it a try by implementing the `TrieNode` and `Trie` classes below!"
      ]
    },
    {
      "cell_type": "code",
      "execution_count": 4,
      "metadata": {
        "collapsed": true,
        "pycharm": {
          "is_executing": false
        }
      },
      "outputs": [],
      "source": "## Represents a single node in the Trie\nclass TrieNode:\n    def __init__(self):\n        self.is_word \u003d False\n        self.children \u003d {}\n    \n    def insert(self, char):\n        self.children[char] \u003d TrieNode()\n        \n## The Trie itself containing the root node and insert/find functions\n\nclass Trie:\n    def __init__(self):\n        self.root \u003d TrieNode()\n\n    def insert(self, word):\n        current_node \u003d self.root\n        word \u003d word +\u0027\\0\u0027 ## this we need to differentiate\n        # suffices from \"short words\", i.e. \"ant\" as word and as a stem\n        for char in word:\n            if char not in current_node.children:\n                current_node.insert(char)\n            current_node \u003d current_node.children[char]\n\n        current_node.is_word \u003d True\n\n    def find(self, prefix):\n        current_node \u003d self.root\n\n        for char in prefix:\n            if char not in current_node.children:\n                return None\n            current_node \u003d current_node.children[char]\n        return current_node\n"
    },
    {
      "cell_type": "markdown",
      "metadata": {
        "pycharm": {}
      },
      "source": "# Finding Suffixes\n\nNow that we have a functioning Trie, we need to add the ability to list suffixes to implement our autocomplete feature. \nTo do that, we need to implement a new function on the `TrieNode` object that will return all complete word suffixes that exist below it in the trie. \nFor example, if our Trie contains the words `[\"fun\", \"function\", \"factory\"]` and we ask for suffixes from the `f` node, we would expect to receive `[\"un\", \"unction\", \"actory\"]` back from `node.suffixes()`.\n\nUsing the code you wrote for the `TrieNode` above, try to add the suffixes function below. (Hint: recurse down the trie, collecting suffixes as you go.)"
    },
    {
      "cell_type": "code",
      "execution_count": 5,
      "metadata": {
        "collapsed": true,
        "pycharm": {
          "is_executing": false
        }
      },
      "outputs": [],
      "source": "class TrieNode:\n    def __init__(self):\n        self.is_word \u003d False\n        self.children \u003d {}\n\n\n    def insert(self, char):\n        self.children[char] \u003d TrieNode()\n\n    def suffixes(self, suffix\u003d\u0027\u0027):\n        results \u003d[]\n\n        for values in self.children:\n            if self.children[values].children:\n                results.extend(self.children[values].suffixes(suffix + values))\n            elif values \u003d\u003d \u0027\\x00\u0027:\n                results.append(suffix)\n        return  results\n\n"
    },
    {
      "cell_type": "markdown",
      "metadata": {
        "pycharm": {}
      },
      "source": "# Testing it all out\n\nRun the following code to add some words to your trie and then use the interactive search box to see what your code returns."
    },
    {
      "cell_type": "code",
      "execution_count": null,
      "outputs": [],
      "source": "MyTrie \u003d Trie()\nwordList \u003d [\n    \"ant\", \"anthology\", \"antagonist\", \"antonym\", \n    \"fun\", \"function\", \"factory\", \n    \"trie\", \"trigger\", \"trigonometry\", \"tripod\"\n]\nfor word in wordList:\n    MyTrie.insert(word)",
      "metadata": {
        "pycharm": {
          "metadata": false,
          "name": "#%%\n"
        }
      }
    },
    {
      "cell_type": "code",
      "execution_count": null,
      "outputs": [],
      "source": "from ipywidgets import widgets\nfrom IPython.display import display\nfrom ipywidgets import interact\ndef f(prefix):\n    if prefix !\u003d \u0027\u0027:\n        prefixNode \u003d MyTrie.find(prefix)\n        if prefixNode:\n            print(\u0027\\n\u0027.join(prefixNode.suffixes()))\n        else:\n            print(prefix + \" not found\")\n    else:\n        print(\u0027\u0027)\ninteract(f,prefix\u003d\u0027\u0027);",
      "metadata": {
        "pycharm": {
          "metadata": false,
          "name": "#%%\n"
        }
      }
    }
  ],
  "metadata": {
    "kernelspec": {
      "display_name": "Python 3",
      "language": "python",
      "name": "python3"
    },
    "language_info": {
      "codemirror_mode": {
        "name": "ipython",
        "version": 3
      },
      "file_extension": ".py",
      "mimetype": "text/x-python",
      "name": "python",
      "nbconvert_exporter": "python",
      "pygments_lexer": "ipython3",
      "version": "3.6.3"
    },
    "widgets": {
      "state": {},
      "version": "1.1.2"
    }
  },
  "nbformat": 4,
  "nbformat_minor": 2
}